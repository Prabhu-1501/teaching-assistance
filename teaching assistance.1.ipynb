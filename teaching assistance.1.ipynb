{
 "cells": [
  {
   "cell_type": "markdown",
   "id": "28945ff2",
   "metadata": {},
   "source": [
    "# Importing Libraries"
   ]
  },
  {
   "cell_type": "code",
   "execution_count": 1304,
   "id": "e2367042",
   "metadata": {},
   "outputs": [],
   "source": [
    "import pandas as pd\n",
    "import numpy as np\n",
    "import matplotlib.pyplot as plt\n",
    "import seaborn as sns"
   ]
  },
  {
   "cell_type": "markdown",
   "id": "9d0c06a0",
   "metadata": {},
   "source": [
    "# Loading the dataset"
   ]
  },
  {
   "cell_type": "code",
   "execution_count": 1275,
   "id": "5698e648",
   "metadata": {},
   "outputs": [],
   "source": [
    "teaching = pd.read_csv('tae.csv')"
   ]
  },
  {
   "cell_type": "code",
   "execution_count": 1276,
   "id": "491658b3",
   "metadata": {},
   "outputs": [
    {
     "data": {
      "text/html": [
       "<div>\n",
       "<style scoped>\n",
       "    .dataframe tbody tr th:only-of-type {\n",
       "        vertical-align: middle;\n",
       "    }\n",
       "\n",
       "    .dataframe tbody tr th {\n",
       "        vertical-align: top;\n",
       "    }\n",
       "\n",
       "    .dataframe thead th {\n",
       "        text-align: right;\n",
       "    }\n",
       "</style>\n",
       "<table border=\"1\" class=\"dataframe\">\n",
       "  <thead>\n",
       "    <tr style=\"text-align: right;\">\n",
       "      <th></th>\n",
       "      <th>1</th>\n",
       "      <th>23</th>\n",
       "      <th>3</th>\n",
       "      <th>1.1</th>\n",
       "      <th>19</th>\n",
       "      <th>3.1</th>\n",
       "    </tr>\n",
       "  </thead>\n",
       "  <tbody>\n",
       "    <tr>\n",
       "      <th>0</th>\n",
       "      <td>2</td>\n",
       "      <td>15</td>\n",
       "      <td>3</td>\n",
       "      <td>1</td>\n",
       "      <td>17</td>\n",
       "      <td>3</td>\n",
       "    </tr>\n",
       "    <tr>\n",
       "      <th>1</th>\n",
       "      <td>1</td>\n",
       "      <td>23</td>\n",
       "      <td>3</td>\n",
       "      <td>2</td>\n",
       "      <td>49</td>\n",
       "      <td>3</td>\n",
       "    </tr>\n",
       "    <tr>\n",
       "      <th>2</th>\n",
       "      <td>1</td>\n",
       "      <td>5</td>\n",
       "      <td>2</td>\n",
       "      <td>2</td>\n",
       "      <td>33</td>\n",
       "      <td>3</td>\n",
       "    </tr>\n",
       "    <tr>\n",
       "      <th>3</th>\n",
       "      <td>2</td>\n",
       "      <td>7</td>\n",
       "      <td>11</td>\n",
       "      <td>2</td>\n",
       "      <td>55</td>\n",
       "      <td>3</td>\n",
       "    </tr>\n",
       "    <tr>\n",
       "      <th>4</th>\n",
       "      <td>2</td>\n",
       "      <td>23</td>\n",
       "      <td>3</td>\n",
       "      <td>1</td>\n",
       "      <td>20</td>\n",
       "      <td>3</td>\n",
       "    </tr>\n",
       "  </tbody>\n",
       "</table>\n",
       "</div>"
      ],
      "text/plain": [
       "   1  23   3  1.1  19  3.1\n",
       "0  2  15   3    1  17    3\n",
       "1  1  23   3    2  49    3\n",
       "2  1   5   2    2  33    3\n",
       "3  2   7  11    2  55    3\n",
       "4  2  23   3    1  20    3"
      ]
     },
     "execution_count": 1276,
     "metadata": {},
     "output_type": "execute_result"
    }
   ],
   "source": [
    "teaching.head()"
   ]
  },
  {
   "cell_type": "code",
   "execution_count": 1277,
   "id": "f1e94aaa",
   "metadata": {},
   "outputs": [
    {
     "data": {
      "text/plain": [
       "(150, 6)"
      ]
     },
     "execution_count": 1277,
     "metadata": {},
     "output_type": "execute_result"
    }
   ],
   "source": [
    "teaching.shape"
   ]
  },
  {
   "cell_type": "markdown",
   "id": "e90571de",
   "metadata": {},
   "source": [
    "**Observations**\n",
    "\n",
    "- We loaded the dataset of the teaching assistance.\n",
    "- In this dataset there is 150 rows and 6 columns"
   ]
  },
  {
   "cell_type": "code",
   "execution_count": 1278,
   "id": "d2d32e7c",
   "metadata": {},
   "outputs": [
    {
     "name": "stdout",
     "output_type": "stream",
     "text": [
      "<class 'pandas.core.frame.DataFrame'>\n",
      "RangeIndex: 150 entries, 0 to 149\n",
      "Data columns (total 6 columns):\n",
      " #   Column  Non-Null Count  Dtype\n",
      "---  ------  --------------  -----\n",
      " 0   1       150 non-null    int64\n",
      " 1   23      150 non-null    int64\n",
      " 2   3       150 non-null    int64\n",
      " 3   1.1     150 non-null    int64\n",
      " 4   19      150 non-null    int64\n",
      " 5   3.1     150 non-null    int64\n",
      "dtypes: int64(6)\n",
      "memory usage: 7.2 KB\n"
     ]
    }
   ],
   "source": [
    "teaching.info()"
   ]
  },
  {
   "cell_type": "code",
   "execution_count": 1279,
   "id": "a85445f4",
   "metadata": {},
   "outputs": [],
   "source": [
    "teaching.rename(columns={'1':'Native_speaker'\n",
    "                         ,'23':'Instructor'\n",
    "                         ,'3':'Course'\n",
    "                         ,'1.1':'semester_type'\n",
    "                         ,'19':'class_size'\n",
    "                         ,'3.1':'category'},inplace=True)"
   ]
  },
  {
   "cell_type": "code",
   "execution_count": 1280,
   "id": "b9c8cb67",
   "metadata": {},
   "outputs": [
    {
     "data": {
      "text/html": [
       "<div>\n",
       "<style scoped>\n",
       "    .dataframe tbody tr th:only-of-type {\n",
       "        vertical-align: middle;\n",
       "    }\n",
       "\n",
       "    .dataframe tbody tr th {\n",
       "        vertical-align: top;\n",
       "    }\n",
       "\n",
       "    .dataframe thead th {\n",
       "        text-align: right;\n",
       "    }\n",
       "</style>\n",
       "<table border=\"1\" class=\"dataframe\">\n",
       "  <thead>\n",
       "    <tr style=\"text-align: right;\">\n",
       "      <th></th>\n",
       "      <th>Native_speaker</th>\n",
       "      <th>Instructor</th>\n",
       "      <th>Course</th>\n",
       "      <th>semester_type</th>\n",
       "      <th>class_size</th>\n",
       "      <th>category</th>\n",
       "    </tr>\n",
       "  </thead>\n",
       "  <tbody>\n",
       "    <tr>\n",
       "      <th>0</th>\n",
       "      <td>2</td>\n",
       "      <td>15</td>\n",
       "      <td>3</td>\n",
       "      <td>1</td>\n",
       "      <td>17</td>\n",
       "      <td>3</td>\n",
       "    </tr>\n",
       "    <tr>\n",
       "      <th>1</th>\n",
       "      <td>1</td>\n",
       "      <td>23</td>\n",
       "      <td>3</td>\n",
       "      <td>2</td>\n",
       "      <td>49</td>\n",
       "      <td>3</td>\n",
       "    </tr>\n",
       "    <tr>\n",
       "      <th>2</th>\n",
       "      <td>1</td>\n",
       "      <td>5</td>\n",
       "      <td>2</td>\n",
       "      <td>2</td>\n",
       "      <td>33</td>\n",
       "      <td>3</td>\n",
       "    </tr>\n",
       "    <tr>\n",
       "      <th>3</th>\n",
       "      <td>2</td>\n",
       "      <td>7</td>\n",
       "      <td>11</td>\n",
       "      <td>2</td>\n",
       "      <td>55</td>\n",
       "      <td>3</td>\n",
       "    </tr>\n",
       "    <tr>\n",
       "      <th>4</th>\n",
       "      <td>2</td>\n",
       "      <td>23</td>\n",
       "      <td>3</td>\n",
       "      <td>1</td>\n",
       "      <td>20</td>\n",
       "      <td>3</td>\n",
       "    </tr>\n",
       "  </tbody>\n",
       "</table>\n",
       "</div>"
      ],
      "text/plain": [
       "   Native_speaker  Instructor  Course  semester_type  class_size  category\n",
       "0               2          15       3              1          17         3\n",
       "1               1          23       3              2          49         3\n",
       "2               1           5       2              2          33         3\n",
       "3               2           7      11              2          55         3\n",
       "4               2          23       3              1          20         3"
      ]
     },
     "execution_count": 1280,
     "metadata": {},
     "output_type": "execute_result"
    }
   ],
   "source": [
    "teaching.head()"
   ]
  },
  {
   "cell_type": "markdown",
   "id": "57def992",
   "metadata": {},
   "source": [
    "**Observations**\n",
    "\n",
    "- Here we got the information of the dataset.\n",
    "- There is no null value in the dataset, hence we need not to find null value.\n",
    "- And we renamed the columns which are in numerical form into catagorical form."
   ]
  },
  {
   "cell_type": "markdown",
   "id": "ad22907a",
   "metadata": {},
   "source": [
    "# Data exploration"
   ]
  },
  {
   "cell_type": "code",
   "execution_count": 1281,
   "id": "62c5f536",
   "metadata": {},
   "outputs": [
    {
     "data": {
      "text/plain": [
       "2    122\n",
       "1     28\n",
       "Name: Native_speaker, dtype: int64"
      ]
     },
     "execution_count": 1281,
     "metadata": {},
     "output_type": "execute_result"
    }
   ],
   "source": [
    "teaching['Native_speaker'].value_counts()"
   ]
  },
  {
   "cell_type": "markdown",
   "id": "f0a02a76",
   "metadata": {},
   "source": [
    "**1=English speaker                                                                     \n",
    "2=non-English speaker**"
   ]
  },
  {
   "cell_type": "code",
   "execution_count": 1282,
   "id": "c6141cd5",
   "metadata": {},
   "outputs": [
    {
     "data": {
      "text/plain": [
       "(array([0, 1]), [Text(0, 0, '1'), Text(1, 0, '2')])"
      ]
     },
     "execution_count": 1282,
     "metadata": {},
     "output_type": "execute_result"
    },
    {
     "data": {
      "image/png": "[encoded data removed]",
      "text/plain": [
       "<Figure size 640x480 with 1 Axes>"
      ]
     },
     "metadata": {},
     "output_type": "display_data"
    }
   ],
   "source": [
    "instructor = teaching['Native_speaker'].value_counts().sort_index()\n",
    "\n",
    "instructor.plot(kind='bar')\n",
    "plt.xticks(rotation=0)"
   ]
  },
  {
   "cell_type": "markdown",
   "id": "a9834aa6",
   "metadata": {},
   "source": [
    "**Observations**\n",
    "- By seeing the above bar graph we can say that , there are more non english native speaker than english speakers."
   ]
  },
  {
   "cell_type": "code",
   "execution_count": 1283,
   "id": "2c83ebfa",
   "metadata": {},
   "outputs": [
    {
     "data": {
      "text/plain": [
       "25"
      ]
     },
     "execution_count": 1283,
     "metadata": {},
     "output_type": "execute_result"
    }
   ],
   "source": [
    "teaching['Instructor'].nunique()"
   ]
  },
  {
   "cell_type": "markdown",
   "id": "b9856274",
   "metadata": {},
   "source": [
    "**The Course instructor has 25 categories**"
   ]
  },
  {
   "cell_type": "code",
   "execution_count": 1284,
   "id": "e4438ced",
   "metadata": {},
   "outputs": [
    {
     "data": {
      "image/png": "[encoded data removed]",
      "text/plain": [
       "<Figure size 640x480 with 1 Axes>"
      ]
     },
     "metadata": {},
     "output_type": "display_data"
    }
   ],
   "source": [
    "instructor= teaching['Instructor'].value_counts().sort_index()\n",
    "\n",
    "instructor.plot(kind='bar')\n",
    "plt.xticks(rotation=0)\n",
    "plt.tight_layout()\n",
    "plt.show()\n"
   ]
  },
  {
   "cell_type": "markdown",
   "id": "f2f34542",
   "metadata": {},
   "source": [
    "**Observations**\n",
    "- By seeing above graph we can say that there are 25 catagories has course instructor.\n",
    "- In that 25 instructor 23 rd catagory is the highest."
   ]
  },
  {
   "cell_type": "code",
   "execution_count": 1285,
   "id": "24c99569",
   "metadata": {},
   "outputs": [
    {
     "data": {
      "text/plain": [
       "26"
      ]
     },
     "execution_count": 1285,
     "metadata": {},
     "output_type": "execute_result"
    }
   ],
   "source": [
    "teaching['Course'].nunique()"
   ]
  },
  {
   "cell_type": "markdown",
   "id": "82ce02f4",
   "metadata": {},
   "source": [
    "**Course-26 categories**"
   ]
  },
  {
   "cell_type": "code",
   "execution_count": 1286,
   "id": "22a5ccb3",
   "metadata": {},
   "outputs": [
    {
     "data": {
      "image/png": "[encoded data removed]",
      "text/plain": [
       "<Figure size 640x480 with 1 Axes>"
      ]
     },
     "metadata": {},
     "output_type": "display_data"
    }
   ],
   "source": [
    "Course= teaching['Course'].value_counts().sort_index()\n",
    "\n",
    "Course.plot(kind='bar')\n",
    "plt.xticks(rotation=0)\n",
    "plt.tight_layout()\n",
    "plt.show()"
   ]
  },
  {
   "cell_type": "markdown",
   "id": "fca1141a",
   "metadata": {},
   "source": [
    "**Observations**\n",
    "- The course has a 26 categories , in that 26 the 3rd categories have nore teaching assistance"
   ]
  },
  {
   "cell_type": "code",
   "execution_count": 1287,
   "id": "c46783a7",
   "metadata": {},
   "outputs": [
    {
     "data": {
      "text/plain": [
       "2    128\n",
       "1     22\n",
       "Name: semester_type, dtype: int64"
      ]
     },
     "execution_count": 1287,
     "metadata": {},
     "output_type": "execute_result"
    }
   ],
   "source": [
    "teaching['semester_type'].value_counts()"
   ]
  },
  {
   "cell_type": "markdown",
   "id": "12036c19",
   "metadata": {},
   "source": [
    "**1=Summer                                \n",
    "2=Regular**"
   ]
  },
  {
   "cell_type": "code",
   "execution_count": 1288,
   "id": "7346b9ce",
   "metadata": {},
   "outputs": [
    {
     "data": {
      "image/png": "[encoded data removed]",
      "text/plain": [
       "<Figure size 640x480 with 1 Axes>"
      ]
     },
     "metadata": {},
     "output_type": "display_data"
    }
   ],
   "source": [
    "semester= teaching['semester_type'].value_counts().sort_index()\n",
    "\n",
    "semester.plot(kind='bar')\n",
    "plt.xticks(rotation=0)\n",
    "plt.tight_layout()\n",
    "plt.show()"
   ]
  },
  {
   "cell_type": "markdown",
   "id": "8aab42a0",
   "metadata": {},
   "source": [
    "**Observations**\n",
    "\n",
    "- There are two types that are Summer and regular type.\n",
    "- In that 1 is a summer type and 2 is a regular type.\n",
    "- By looking at above graph we can say that regular teaching are more"
   ]
  },
  {
   "cell_type": "code",
   "execution_count": 1289,
   "id": "3be6d082",
   "metadata": {},
   "outputs": [
    {
     "data": {
      "text/plain": [
       "46"
      ]
     },
     "execution_count": 1289,
     "metadata": {},
     "output_type": "execute_result"
    }
   ],
   "source": [
    "teaching['class_size'].nunique()"
   ]
  },
  {
   "cell_type": "code",
   "execution_count": 1290,
   "id": "d2402e68",
   "metadata": {},
   "outputs": [
    {
     "data": {
      "text/plain": [
       "20    11\n",
       "19    10\n",
       "27     7\n",
       "42     7\n",
       "17     6\n",
       "10     6\n",
       "38     6\n",
       "37     6\n",
       "31     6\n",
       "29     6\n",
       "24     5\n",
       "13     4\n",
       "11     4\n",
       "21     4\n",
       "30     4\n",
       "48     3\n",
       "39     3\n",
       "23     3\n",
       "22     3\n",
       "25     3\n",
       "51     3\n",
       "36     3\n",
       "18     2\n",
       "14     2\n",
       "15     2\n",
       "12     2\n",
       "45     2\n",
       "28     2\n",
       "49     2\n",
       "43     2\n",
       "9      2\n",
       "58     2\n",
       "55     2\n",
       "46     2\n",
       "33     2\n",
       "7      1\n",
       "5      1\n",
       "44     1\n",
       "16     1\n",
       "54     1\n",
       "66     1\n",
       "3      1\n",
       "34     1\n",
       "32     1\n",
       "35     1\n",
       "26     1\n",
       "Name: class_size, dtype: int64"
      ]
     },
     "execution_count": 1290,
     "metadata": {},
     "output_type": "execute_result"
    }
   ],
   "source": [
    "teaching['class_size'].value_counts()"
   ]
  },
  {
   "cell_type": "code",
   "execution_count": 1291,
   "id": "3af06036",
   "metadata": {},
   "outputs": [
    {
     "data": {
      "image/png": "[encoded data removed]",
      "text/plain": [
       "<Figure size 640x480 with 1 Axes>"
      ]
     },
     "metadata": {},
     "output_type": "display_data"
    }
   ],
   "source": [
    "class_size= teaching['class_size'].value_counts().sort_index()\n",
    "\n",
    "class_size.plot(kind='bar')\n",
    "plt.xticks(rotation=90)\n",
    "plt.tight_layout()\n",
    "plt.show()"
   ]
  },
  {
   "cell_type": "markdown",
   "id": "096d5438",
   "metadata": {},
   "source": [
    "**Observations**\n",
    "- We have a class size of 46 , in that 20 as a more data."
   ]
  },
  {
   "cell_type": "code",
   "execution_count": 1292,
   "id": "6d3ab344",
   "metadata": {},
   "outputs": [
    {
     "data": {
      "text/plain": [
       "3    51\n",
       "2    50\n",
       "1    49\n",
       "Name: category, dtype: int64"
      ]
     },
     "execution_count": 1292,
     "metadata": {},
     "output_type": "execute_result"
    }
   ],
   "source": [
    "teaching['category'].value_counts()"
   ]
  },
  {
   "cell_type": "code",
   "execution_count": 1309,
   "id": "a618883a",
   "metadata": {},
   "outputs": [],
   "source": [
    "z={1:0,2:1,3:2}\n",
    "teaching['category']=teaching['category'].map(z)"
   ]
  },
  {
   "cell_type": "markdown",
   "id": "92f24796",
   "metadata": {},
   "source": [
    "**0=Low                            \n",
    "1=Medium                                       \n",
    "2=High**         "
   ]
  },
  {
   "cell_type": "code",
   "execution_count": 1310,
   "id": "c10a48b9",
   "metadata": {},
   "outputs": [
    {
     "data": {
      "image/png": "[encoded data removed]",
      "text/plain": [
       "<Figure size 640x480 with 1 Axes>"
      ]
     },
     "metadata": {},
     "output_type": "display_data"
    }
   ],
   "source": [
    "category= teaching['category'].value_counts().sort_index()\n",
    "\n",
    "category.plot(kind='bar')\n",
    "plt.xticks(rotation=0)\n",
    "plt.tight_layout()\n",
    "plt.show()"
   ]
  },
  {
   "cell_type": "markdown",
   "id": "8135e306",
   "metadata": {},
   "source": [
    "**Observations**\n",
    "- There are three teaching category that high, low ,medium.\n",
    "- By above graph we can say that all have almost same data, and high has more data."
   ]
  },
  {
   "cell_type": "markdown",
   "id": "a05c4d12",
   "metadata": {},
   "source": [
    "## Standardizing "
   ]
  },
  {
   "cell_type": "code",
   "execution_count": 1311,
   "id": "f34c6c62",
   "metadata": {},
   "outputs": [],
   "source": [
    "from sklearn.preprocessing import StandardScaler"
   ]
  },
  {
   "cell_type": "code",
   "execution_count": 1312,
   "id": "f0d05b93",
   "metadata": {},
   "outputs": [],
   "source": [
    "scale = StandardScaler()"
   ]
  },
  {
   "cell_type": "code",
   "execution_count": 1313,
   "id": "8f60975b",
   "metadata": {},
   "outputs": [],
   "source": [
    "teaching[['Native_speaker','Instructor','Course','semester_type','class_size']]=scale.fit_transform(teaching[['Native_speaker','Instructor','Course','semester_type','class_size']])"
   ]
  },
  {
   "cell_type": "code",
   "execution_count": 1314,
   "id": "db3c2a8b",
   "metadata": {},
   "outputs": [
    {
     "data": {
      "text/html": [
       "<div>\n",
       "<style scoped>\n",
       "    .dataframe tbody tr th:only-of-type {\n",
       "        vertical-align: middle;\n",
       "    }\n",
       "\n",
       "    .dataframe tbody tr th {\n",
       "        vertical-align: top;\n",
       "    }\n",
       "\n",
       "    .dataframe thead th {\n",
       "        text-align: right;\n",
       "    }\n",
       "</style>\n",
       "<table border=\"1\" class=\"dataframe\">\n",
       "  <thead>\n",
       "    <tr style=\"text-align: right;\">\n",
       "      <th></th>\n",
       "      <th>Native_speaker</th>\n",
       "      <th>Instructor</th>\n",
       "      <th>Course</th>\n",
       "      <th>semester_type</th>\n",
       "      <th>class_size</th>\n",
       "      <th>category</th>\n",
       "    </tr>\n",
       "  </thead>\n",
       "  <tbody>\n",
       "    <tr>\n",
       "      <th>0</th>\n",
       "      <td>0.479070</td>\n",
       "      <td>0.209359</td>\n",
       "      <td>-0.733087</td>\n",
       "      <td>-2.412091</td>\n",
       "      <td>-0.848787</td>\n",
       "      <td>2</td>\n",
       "    </tr>\n",
       "    <tr>\n",
       "      <th>1</th>\n",
       "      <td>-2.087377</td>\n",
       "      <td>1.388849</td>\n",
       "      <td>-0.733087</td>\n",
       "      <td>0.414578</td>\n",
       "      <td>1.636983</td>\n",
       "      <td>2</td>\n",
       "    </tr>\n",
       "    <tr>\n",
       "      <th>2</th>\n",
       "      <td>-2.087377</td>\n",
       "      <td>-1.265002</td>\n",
       "      <td>-0.875711</td>\n",
       "      <td>0.414578</td>\n",
       "      <td>0.394098</td>\n",
       "      <td>2</td>\n",
       "    </tr>\n",
       "    <tr>\n",
       "      <th>3</th>\n",
       "      <td>0.479070</td>\n",
       "      <td>-0.970130</td>\n",
       "      <td>0.407904</td>\n",
       "      <td>0.414578</td>\n",
       "      <td>2.103064</td>\n",
       "      <td>2</td>\n",
       "    </tr>\n",
       "    <tr>\n",
       "      <th>4</th>\n",
       "      <td>0.479070</td>\n",
       "      <td>1.388849</td>\n",
       "      <td>-0.733087</td>\n",
       "      <td>-2.412091</td>\n",
       "      <td>-0.615746</td>\n",
       "      <td>2</td>\n",
       "    </tr>\n",
       "  </tbody>\n",
       "</table>\n",
       "</div>"
      ],
      "text/plain": [
       "   Native_speaker  Instructor    Course  semester_type  class_size  category\n",
       "0        0.479070    0.209359 -0.733087      -2.412091   -0.848787         2\n",
       "1       -2.087377    1.388849 -0.733087       0.414578    1.636983         2\n",
       "2       -2.087377   -1.265002 -0.875711       0.414578    0.394098         2\n",
       "3        0.479070   -0.970130  0.407904       0.414578    2.103064         2\n",
       "4        0.479070    1.388849 -0.733087      -2.412091   -0.615746         2"
      ]
     },
     "execution_count": 1314,
     "metadata": {},
     "output_type": "execute_result"
    }
   ],
   "source": [
    "teaching.head()"
   ]
  },
  {
   "cell_type": "markdown",
   "id": "9c63a2f3",
   "metadata": {},
   "source": [
    "**Observations**\n",
    "- We standardize the data by importing standardscaler."
   ]
  },
  {
   "cell_type": "markdown",
   "id": "dde384b4",
   "metadata": {},
   "source": [
    "## Splitting features and target"
   ]
  },
  {
   "cell_type": "code",
   "execution_count": 1316,
   "id": "89e12873",
   "metadata": {},
   "outputs": [],
   "source": [
    "Y=teaching.pop('category')\n",
    "X=teaching"
   ]
  },
  {
   "cell_type": "markdown",
   "id": "4673b681",
   "metadata": {},
   "source": [
    "## Splitting training and testing data"
   ]
  },
  {
   "cell_type": "code",
   "execution_count": 1317,
   "id": "ea7048a1",
   "metadata": {},
   "outputs": [],
   "source": [
    "from sklearn.model_selection import train_test_split"
   ]
  },
  {
   "cell_type": "code",
   "execution_count": 1318,
   "id": "b360c342",
   "metadata": {},
   "outputs": [
    {
     "name": "stdout",
     "output_type": "stream",
     "text": [
      "(150, 5) (120, 5) (30, 5)\n"
     ]
    }
   ],
   "source": [
    "X_train,X_test,Y_train,Y_test=train_test_split(X,Y,test_size=0.2,random_state=8)\n",
    "print(X.shape, X_train.shape, X_test.shape)"
   ]
  },
  {
   "cell_type": "markdown",
   "id": "b94110f4",
   "metadata": {},
   "source": [
    "**Observations**\n",
    "- We split the data using train test split , after splitting we got 120 rows and 5 columns in train data.\n",
    "- In test data we have 30 rows and 5 columns"
   ]
  },
  {
   "cell_type": "markdown",
   "id": "cb468cb8",
   "metadata": {},
   "source": [
    "## KNeighbors"
   ]
  },
  {
   "cell_type": "code",
   "execution_count": 1319,
   "id": "0eb2f93b",
   "metadata": {},
   "outputs": [],
   "source": [
    "from sklearn.neighbors import KNeighborsClassifier"
   ]
  },
  {
   "cell_type": "code",
   "execution_count": 1320,
   "id": "66034d80",
   "metadata": {},
   "outputs": [],
   "source": [
    "KNC=KNeighborsClassifier(n_neighbors=15)"
   ]
  },
  {
   "cell_type": "code",
   "execution_count": 1321,
   "id": "0e6486f2",
   "metadata": {},
   "outputs": [
    {
     "data": {
      "text/html": [
       "<style>#sk-container-id-105 {color: black;background-color: white;}#sk-container-id-105 pre{padding: 0;}#sk-container-id-105 div.sk-toggleable {background-color: white;}#sk-container-id-105 label.sk-toggleable__label {cursor: pointer;display: block;width: 100%;margin-bottom: 0;padding: 0.3em;box-sizing: border-box;text-align: center;}#sk-container-id-105 label.sk-toggleable__label-arrow:before {content: \"▸\";float: left;margin-right: 0.25em;color: #696969;}#sk-container-id-105 label.sk-toggleable__label-arrow:hover:before {color: black;}#sk-container-id-105 div.sk-estimator:hover label.sk-toggleable__label-arrow:before {color: black;}#sk-container-id-105 div.sk-toggleable__content {max-height: 0;max-width: 0;overflow: hidden;text-align: left;background-color: #f0f8ff;}#sk-container-id-105 div.sk-toggleable__content pre {margin: 0.2em;color: black;border-radius: 0.25em;background-color: #f0f8ff;}#sk-container-id-105 input.sk-toggleable__control:checked~div.sk-toggleable__content {max-height: 200px;max-width: 100%;overflow: auto;}#sk-container-id-105 input.sk-toggleable__control:checked~label.sk-toggleable__label-arrow:before {content: \"▾\";}#sk-container-id-105 div.sk-estimator input.sk-toggleable__control:checked~label.sk-toggleable__label {background-color: #d4ebff;}#sk-container-id-105 div.sk-label input.sk-toggleable__control:checked~label.sk-toggleable__label {background-color: #d4ebff;}#sk-container-id-105 input.sk-hidden--visually {border: 0;clip: rect(1px 1px 1px 1px);clip: rect(1px, 1px, 1px, 1px);height: 1px;margin: -1px;overflow: hidden;padding: 0;position: absolute;width: 1px;}#sk-container-id-105 div.sk-estimator {font-family: monospace;background-color: #f0f8ff;border: 1px dotted black;border-radius: 0.25em;box-sizing: border-box;margin-bottom: 0.5em;}#sk-container-id-105 div.sk-estimator:hover {background-color: #d4ebff;}#sk-container-id-105 div.sk-parallel-item::after {content: \"\";width: 100%;border-bottom: 1px solid gray;flex-grow: 1;}#sk-container-id-105 div.sk-label:hover label.sk-toggleable__label {background-color: #d4ebff;}#sk-container-id-105 div.sk-serial::before {content: \"\";position: absolute;border-left: 1px solid gray;box-sizing: border-box;top: 0;bottom: 0;left: 50%;z-index: 0;}#sk-container-id-105 div.sk-serial {display: flex;flex-direction: column;align-items: center;background-color: white;padding-right: 0.2em;padding-left: 0.2em;position: relative;}#sk-container-id-105 div.sk-item {position: relative;z-index: 1;}#sk-container-id-105 div.sk-parallel {display: flex;align-items: stretch;justify-content: center;background-color: white;position: relative;}#sk-container-id-105 div.sk-item::before, #sk-container-id-105 div.sk-parallel-item::before {content: \"\";position: absolute;border-left: 1px solid gray;box-sizing: border-box;top: 0;bottom: 0;left: 50%;z-index: -1;}#sk-container-id-105 div.sk-parallel-item {display: flex;flex-direction: column;z-index: 1;position: relative;background-color: white;}#sk-container-id-105 div.sk-parallel-item:first-child::after {align-self: flex-end;width: 50%;}#sk-container-id-105 div.sk-parallel-item:last-child::after {align-self: flex-start;width: 50%;}#sk-container-id-105 div.sk-parallel-item:only-child::after {width: 0;}#sk-container-id-105 div.sk-dashed-wrapped {border: 1px dashed gray;margin: 0 0.4em 0.5em 0.4em;box-sizing: border-box;padding-bottom: 0.4em;background-color: white;}#sk-container-id-105 div.sk-label label {font-family: monospace;font-weight: bold;display: inline-block;line-height: 1.2em;}#sk-container-id-105 div.sk-label-container {text-align: center;}#sk-container-id-105 div.sk-container {/* jupyter's `normalize.less` sets `[hidden] { display: none; }` but bootstrap.min.css set `[hidden] { display: none !important; }` so we also need the `!important` here to be able to override the default hidden behavior on the sphinx rendered scikit-learn.org. See: https://github.com/scikit-learn/scikit-learn/issues/21755 */display: inline-block !important;position: relative;}#sk-container-id-105 div.sk-text-repr-fallback {display: none;}</style><div id=\"sk-container-id-105\" class=\"sk-top-container\"><div class=\"sk-text-repr-fallback\"><pre>KNeighborsClassifier(n_neighbors=15)</pre><b>In a Jupyter environment, please rerun this cell to show the HTML representation or trust the notebook. <br />On GitHub, the HTML representation is unable to render, please try loading this page with nbviewer.org.</b></div><div class=\"sk-container\" hidden><div class=\"sk-item\"><div class=\"sk-estimator sk-toggleable\"><input class=\"sk-toggleable__control sk-hidden--visually\" id=\"sk-estimator-id-105\" type=\"checkbox\" checked><label for=\"sk-estimator-id-105\" class=\"sk-toggleable__label sk-toggleable__label-arrow\">KNeighborsClassifier</label><div class=\"sk-toggleable__content\"><pre>KNeighborsClassifier(n_neighbors=15)</pre></div></div></div></div></div>"
      ],
      "text/plain": [
       "KNeighborsClassifier(n_neighbors=15)"
      ]
     },
     "execution_count": 1321,
     "metadata": {},
     "output_type": "execute_result"
    }
   ],
   "source": [
    "KNC.fit(X_train,Y_train)"
   ]
  },
  {
   "cell_type": "code",
   "execution_count": 1322,
   "id": "d86ce077",
   "metadata": {},
   "outputs": [
    {
     "data": {
      "text/plain": [
       "array([2, 1, 1, 2, 0, 1, 0, 2, 0, 1, 0, 2, 2, 1, 1, 0, 2, 2, 1, 2, 0, 2,\n",
       "       2, 2, 0, 0, 1, 2, 1, 2, 2, 2, 2, 0, 1, 1, 0, 2, 0, 0, 0, 0, 2, 1,\n",
       "       1, 1, 1, 0, 2, 2, 2, 2, 1, 0, 2, 0, 1, 0, 2, 0, 0, 2, 2, 2, 2, 2,\n",
       "       0, 2, 2, 0, 0, 0, 0, 2, 0, 0, 2, 1, 2, 2, 2, 1, 2, 2, 0, 2, 1, 2,\n",
       "       0, 1, 0, 1, 2, 2, 2, 1, 0, 1, 1, 1, 1, 1, 1, 0, 2, 1, 1, 1, 0, 0,\n",
       "       0, 2, 0, 1, 0, 2, 0, 2, 1, 1], dtype=int64)"
      ]
     },
     "execution_count": 1322,
     "metadata": {},
     "output_type": "execute_result"
    }
   ],
   "source": [
    "KNC.predict(X_train)"
   ]
  },
  {
   "cell_type": "code",
   "execution_count": 1352,
   "id": "eb6e512f",
   "metadata": {},
   "outputs": [
    {
     "name": "stdout",
     "output_type": "stream",
     "text": [
      "accuracy score on training:  0.5916666666666667\n"
     ]
    }
   ],
   "source": [
    "score_KNN=KNC.score(X_train,Y_train)\n",
    "print('accuracy score on training: ',score_KNN)"
   ]
  },
  {
   "cell_type": "code",
   "execution_count": 1353,
   "id": "566276d9",
   "metadata": {},
   "outputs": [
    {
     "data": {
      "text/plain": [
       "array([2, 0, 0, 2, 1, 0, 0, 0, 2, 1, 2, 0, 1, 2, 0, 2, 0, 1, 0, 1, 1, 2,\n",
       "       0, 1, 2, 2, 1, 1, 2, 0], dtype=int64)"
      ]
     },
     "execution_count": 1353,
     "metadata": {},
     "output_type": "execute_result"
    }
   ],
   "source": [
    "KNC.predict(X_test)"
   ]
  },
  {
   "cell_type": "code",
   "execution_count": 1354,
   "id": "cd4aaca8",
   "metadata": {},
   "outputs": [
    {
     "name": "stdout",
     "output_type": "stream",
     "text": [
      "accuracy score on testing:  0.5916666666666667\n"
     ]
    }
   ],
   "source": [
    "score_test=KNC.score(X_train,Y_train)\n",
    "print('accuracy score on testing: ',score_test)"
   ]
  },
  {
   "cell_type": "markdown",
   "id": "06103716",
   "metadata": {},
   "source": [
    "**Observations**\n",
    "- We used K neighbors classification to find out the accuracy of the test and train data.\n",
    "- In train data we got the accuracy of 0.59\n",
    "- In test data we got the accuracy of 0.59"
   ]
  },
  {
   "cell_type": "markdown",
   "id": "04e3795e",
   "metadata": {},
   "source": [
    "## Decision Tree"
   ]
  },
  {
   "cell_type": "code",
   "execution_count": 1329,
   "id": "6eac015f",
   "metadata": {},
   "outputs": [],
   "source": [
    "from sklearn.tree import DecisionTreeClassifier"
   ]
  },
  {
   "cell_type": "code",
   "execution_count": 1330,
   "id": "3cc8d05b",
   "metadata": {},
   "outputs": [],
   "source": [
    "tree = DecisionTreeClassifier()"
   ]
  },
  {
   "cell_type": "code",
   "execution_count": 1331,
   "id": "86be616e",
   "metadata": {},
   "outputs": [
    {
     "data": {
      "text/html": [
       "<style>#sk-container-id-107 {color: black;background-color: white;}#sk-container-id-107 pre{padding: 0;}#sk-container-id-107 div.sk-toggleable {background-color: white;}#sk-container-id-107 label.sk-toggleable__label {cursor: pointer;display: block;width: 100%;margin-bottom: 0;padding: 0.3em;box-sizing: border-box;text-align: center;}#sk-container-id-107 label.sk-toggleable__label-arrow:before {content: \"▸\";float: left;margin-right: 0.25em;color: #696969;}#sk-container-id-107 label.sk-toggleable__label-arrow:hover:before {color: black;}#sk-container-id-107 div.sk-estimator:hover label.sk-toggleable__label-arrow:before {color: black;}#sk-container-id-107 div.sk-toggleable__content {max-height: 0;max-width: 0;overflow: hidden;text-align: left;background-color: #f0f8ff;}#sk-container-id-107 div.sk-toggleable__content pre {margin: 0.2em;color: black;border-radius: 0.25em;background-color: #f0f8ff;}#sk-container-id-107 input.sk-toggleable__control:checked~div.sk-toggleable__content {max-height: 200px;max-width: 100%;overflow: auto;}#sk-container-id-107 input.sk-toggleable__control:checked~label.sk-toggleable__label-arrow:before {content: \"▾\";}#sk-container-id-107 div.sk-estimator input.sk-toggleable__control:checked~label.sk-toggleable__label {background-color: #d4ebff;}#sk-container-id-107 div.sk-label input.sk-toggleable__control:checked~label.sk-toggleable__label {background-color: #d4ebff;}#sk-container-id-107 input.sk-hidden--visually {border: 0;clip: rect(1px 1px 1px 1px);clip: rect(1px, 1px, 1px, 1px);height: 1px;margin: -1px;overflow: hidden;padding: 0;position: absolute;width: 1px;}#sk-container-id-107 div.sk-estimator {font-family: monospace;background-color: #f0f8ff;border: 1px dotted black;border-radius: 0.25em;box-sizing: border-box;margin-bottom: 0.5em;}#sk-container-id-107 div.sk-estimator:hover {background-color: #d4ebff;}#sk-container-id-107 div.sk-parallel-item::after {content: \"\";width: 100%;border-bottom: 1px solid gray;flex-grow: 1;}#sk-container-id-107 div.sk-label:hover label.sk-toggleable__label {background-color: #d4ebff;}#sk-container-id-107 div.sk-serial::before {content: \"\";position: absolute;border-left: 1px solid gray;box-sizing: border-box;top: 0;bottom: 0;left: 50%;z-index: 0;}#sk-container-id-107 div.sk-serial {display: flex;flex-direction: column;align-items: center;background-color: white;padding-right: 0.2em;padding-left: 0.2em;position: relative;}#sk-container-id-107 div.sk-item {position: relative;z-index: 1;}#sk-container-id-107 div.sk-parallel {display: flex;align-items: stretch;justify-content: center;background-color: white;position: relative;}#sk-container-id-107 div.sk-item::before, #sk-container-id-107 div.sk-parallel-item::before {content: \"\";position: absolute;border-left: 1px solid gray;box-sizing: border-box;top: 0;bottom: 0;left: 50%;z-index: -1;}#sk-container-id-107 div.sk-parallel-item {display: flex;flex-direction: column;z-index: 1;position: relative;background-color: white;}#sk-container-id-107 div.sk-parallel-item:first-child::after {align-self: flex-end;width: 50%;}#sk-container-id-107 div.sk-parallel-item:last-child::after {align-self: flex-start;width: 50%;}#sk-container-id-107 div.sk-parallel-item:only-child::after {width: 0;}#sk-container-id-107 div.sk-dashed-wrapped {border: 1px dashed gray;margin: 0 0.4em 0.5em 0.4em;box-sizing: border-box;padding-bottom: 0.4em;background-color: white;}#sk-container-id-107 div.sk-label label {font-family: monospace;font-weight: bold;display: inline-block;line-height: 1.2em;}#sk-container-id-107 div.sk-label-container {text-align: center;}#sk-container-id-107 div.sk-container {/* jupyter's `normalize.less` sets `[hidden] { display: none; }` but bootstrap.min.css set `[hidden] { display: none !important; }` so we also need the `!important` here to be able to override the default hidden behavior on the sphinx rendered scikit-learn.org. See: https://github.com/scikit-learn/scikit-learn/issues/21755 */display: inline-block !important;position: relative;}#sk-container-id-107 div.sk-text-repr-fallback {display: none;}</style><div id=\"sk-container-id-107\" class=\"sk-top-container\"><div class=\"sk-text-repr-fallback\"><pre>DecisionTreeClassifier()</pre><b>In a Jupyter environment, please rerun this cell to show the HTML representation or trust the notebook. <br />On GitHub, the HTML representation is unable to render, please try loading this page with nbviewer.org.</b></div><div class=\"sk-container\" hidden><div class=\"sk-item\"><div class=\"sk-estimator sk-toggleable\"><input class=\"sk-toggleable__control sk-hidden--visually\" id=\"sk-estimator-id-107\" type=\"checkbox\" checked><label for=\"sk-estimator-id-107\" class=\"sk-toggleable__label sk-toggleable__label-arrow\">DecisionTreeClassifier</label><div class=\"sk-toggleable__content\"><pre>DecisionTreeClassifier()</pre></div></div></div></div></div>"
      ],
      "text/plain": [
       "DecisionTreeClassifier()"
      ]
     },
     "execution_count": 1331,
     "metadata": {},
     "output_type": "execute_result"
    }
   ],
   "source": [
    "tree.fit(X_train,Y_train)"
   ]
  },
  {
   "cell_type": "code",
   "execution_count": 1332,
   "id": "a02cf618",
   "metadata": {},
   "outputs": [
    {
     "data": {
      "text/plain": [
       "array([2, 2, 1, 2, 2, 0, 1, 2, 0, 1, 0, 2, 2, 1, 0, 2, 2, 2, 0, 0, 0, 1,\n",
       "       1, 2, 1, 2, 1, 2, 0, 2, 2, 2, 1, 0, 2, 1, 0, 0, 1, 1, 0, 0, 2, 1,\n",
       "       2, 0, 1, 0, 0, 2, 2, 2, 1, 0, 2, 0, 0, 2, 0, 0, 2, 2, 2, 1, 2, 1,\n",
       "       2, 2, 1, 0, 0, 0, 1, 2, 1, 0, 1, 1, 0, 2, 2, 1, 0, 2, 0, 1, 1, 1,\n",
       "       0, 0, 0, 2, 0, 0, 2, 1, 0, 2, 2, 1, 1, 1, 1, 1, 1, 2, 1, 1, 0, 0,\n",
       "       1, 2, 0, 2, 1, 2, 1, 1, 1, 2], dtype=int64)"
      ]
     },
     "execution_count": 1332,
     "metadata": {},
     "output_type": "execute_result"
    }
   ],
   "source": [
    "tree.predict(X_train)"
   ]
  },
  {
   "cell_type": "code",
   "execution_count": 1355,
   "id": "bc0e5b74",
   "metadata": {},
   "outputs": [
    {
     "name": "stdout",
     "output_type": "stream",
     "text": [
      "accuracy is:  0.9666666666666667\n"
     ]
    }
   ],
   "source": [
    "score_train=tree.score(X_train,Y_train)\n",
    "print(\"accuracy is: \",score_train)"
   ]
  },
  {
   "cell_type": "code",
   "execution_count": 1334,
   "id": "67d89c33",
   "metadata": {},
   "outputs": [
    {
     "data": {
      "text/plain": [
       "array([2, 0, 0, 2, 0, 0, 1, 0, 2, 0, 2, 0, 0, 2, 0, 0, 0, 0, 0, 1, 1, 2,\n",
       "       0, 1, 0, 2, 1, 2, 2, 1], dtype=int64)"
      ]
     },
     "execution_count": 1334,
     "metadata": {},
     "output_type": "execute_result"
    }
   ],
   "source": [
    "tree.predict(X_test)"
   ]
  },
  {
   "cell_type": "code",
   "execution_count": 1356,
   "id": "bdefbffd",
   "metadata": {},
   "outputs": [
    {
     "name": "stdout",
     "output_type": "stream",
     "text": [
      "accuracy on testing:  0.6666666666666666\n"
     ]
    }
   ],
   "source": [
    "test_score=tree.score(X_test,Y_test)\n",
    "print('accuracy on testing: ',test_score)"
   ]
  },
  {
   "cell_type": "markdown",
   "id": "c65a6a77",
   "metadata": {},
   "source": [
    "**Observations**\n",
    "- We used decision tree to find out the accuracy of the test and train data.\n",
    "- In train data we got the accuracy of 0.9\n",
    "- In test data we got the accuracy of 0.6.\n",
    "- As we can see this not best algorithm cuz it do not have accurate.\n",
    "\n"
   ]
  },
  {
   "cell_type": "markdown",
   "id": "a8d46573",
   "metadata": {},
   "source": [
    "## Random forest"
   ]
  },
  {
   "cell_type": "code",
   "execution_count": 1336,
   "id": "93d18940",
   "metadata": {},
   "outputs": [],
   "source": [
    "from sklearn.ensemble import RandomForestClassifier"
   ]
  },
  {
   "cell_type": "code",
   "execution_count": 1337,
   "id": "89fcad36",
   "metadata": {},
   "outputs": [],
   "source": [
    "rf_classifier=RandomForestClassifier()"
   ]
  },
  {
   "cell_type": "code",
   "execution_count": 1338,
   "id": "7c5ed59a",
   "metadata": {},
   "outputs": [],
   "source": [
    "rf_classifier.n_estimators = 200 # Number of trees in the forest\n",
    "rf_classifier.max_depth = None  # Maximum depth of each tree\n",
    "rf_classifier.min_samples_split = 50 # Minimum number of samples required to split an internal node\n",
    "rf_classifier.min_samples_leaf = 50  # Minimum number of samples required to be at a leaf node"
   ]
  },
  {
   "cell_type": "code",
   "execution_count": 1339,
   "id": "40fc55f5",
   "metadata": {},
   "outputs": [
    {
     "data": {
      "text/html": [
       "<style>#sk-container-id-108 {color: black;background-color: white;}#sk-container-id-108 pre{padding: 0;}#sk-container-id-108 div.sk-toggleable {background-color: white;}#sk-container-id-108 label.sk-toggleable__label {cursor: pointer;display: block;width: 100%;margin-bottom: 0;padding: 0.3em;box-sizing: border-box;text-align: center;}#sk-container-id-108 label.sk-toggleable__label-arrow:before {content: \"▸\";float: left;margin-right: 0.25em;color: #696969;}#sk-container-id-108 label.sk-toggleable__label-arrow:hover:before {color: black;}#sk-container-id-108 div.sk-estimator:hover label.sk-toggleable__label-arrow:before {color: black;}#sk-container-id-108 div.sk-toggleable__content {max-height: 0;max-width: 0;overflow: hidden;text-align: left;background-color: #f0f8ff;}#sk-container-id-108 div.sk-toggleable__content pre {margin: 0.2em;color: black;border-radius: 0.25em;background-color: #f0f8ff;}#sk-container-id-108 input.sk-toggleable__control:checked~div.sk-toggleable__content {max-height: 200px;max-width: 100%;overflow: auto;}#sk-container-id-108 input.sk-toggleable__control:checked~label.sk-toggleable__label-arrow:before {content: \"▾\";}#sk-container-id-108 div.sk-estimator input.sk-toggleable__control:checked~label.sk-toggleable__label {background-color: #d4ebff;}#sk-container-id-108 div.sk-label input.sk-toggleable__control:checked~label.sk-toggleable__label {background-color: #d4ebff;}#sk-container-id-108 input.sk-hidden--visually {border: 0;clip: rect(1px 1px 1px 1px);clip: rect(1px, 1px, 1px, 1px);height: 1px;margin: -1px;overflow: hidden;padding: 0;position: absolute;width: 1px;}#sk-container-id-108 div.sk-estimator {font-family: monospace;background-color: #f0f8ff;border: 1px dotted black;border-radius: 0.25em;box-sizing: border-box;margin-bottom: 0.5em;}#sk-container-id-108 div.sk-estimator:hover {background-color: #d4ebff;}#sk-container-id-108 div.sk-parallel-item::after {content: \"\";width: 100%;border-bottom: 1px solid gray;flex-grow: 1;}#sk-container-id-108 div.sk-label:hover label.sk-toggleable__label {background-color: #d4ebff;}#sk-container-id-108 div.sk-serial::before {content: \"\";position: absolute;border-left: 1px solid gray;box-sizing: border-box;top: 0;bottom: 0;left: 50%;z-index: 0;}#sk-container-id-108 div.sk-serial {display: flex;flex-direction: column;align-items: center;background-color: white;padding-right: 0.2em;padding-left: 0.2em;position: relative;}#sk-container-id-108 div.sk-item {position: relative;z-index: 1;}#sk-container-id-108 div.sk-parallel {display: flex;align-items: stretch;justify-content: center;background-color: white;position: relative;}#sk-container-id-108 div.sk-item::before, #sk-container-id-108 div.sk-parallel-item::before {content: \"\";position: absolute;border-left: 1px solid gray;box-sizing: border-box;top: 0;bottom: 0;left: 50%;z-index: -1;}#sk-container-id-108 div.sk-parallel-item {display: flex;flex-direction: column;z-index: 1;position: relative;background-color: white;}#sk-container-id-108 div.sk-parallel-item:first-child::after {align-self: flex-end;width: 50%;}#sk-container-id-108 div.sk-parallel-item:last-child::after {align-self: flex-start;width: 50%;}#sk-container-id-108 div.sk-parallel-item:only-child::after {width: 0;}#sk-container-id-108 div.sk-dashed-wrapped {border: 1px dashed gray;margin: 0 0.4em 0.5em 0.4em;box-sizing: border-box;padding-bottom: 0.4em;background-color: white;}#sk-container-id-108 div.sk-label label {font-family: monospace;font-weight: bold;display: inline-block;line-height: 1.2em;}#sk-container-id-108 div.sk-label-container {text-align: center;}#sk-container-id-108 div.sk-container {/* jupyter's `normalize.less` sets `[hidden] { display: none; }` but bootstrap.min.css set `[hidden] { display: none !important; }` so we also need the `!important` here to be able to override the default hidden behavior on the sphinx rendered scikit-learn.org. See: https://github.com/scikit-learn/scikit-learn/issues/21755 */display: inline-block !important;position: relative;}#sk-container-id-108 div.sk-text-repr-fallback {display: none;}</style><div id=\"sk-container-id-108\" class=\"sk-top-container\"><div class=\"sk-text-repr-fallback\"><pre>RandomForestClassifier(min_samples_leaf=50, min_samples_split=50,\n",
       "                       n_estimators=200)</pre><b>In a Jupyter environment, please rerun this cell to show the HTML representation or trust the notebook. <br />On GitHub, the HTML representation is unable to render, please try loading this page with nbviewer.org.</b></div><div class=\"sk-container\" hidden><div class=\"sk-item\"><div class=\"sk-estimator sk-toggleable\"><input class=\"sk-toggleable__control sk-hidden--visually\" id=\"sk-estimator-id-108\" type=\"checkbox\" checked><label for=\"sk-estimator-id-108\" class=\"sk-toggleable__label sk-toggleable__label-arrow\">RandomForestClassifier</label><div class=\"sk-toggleable__content\"><pre>RandomForestClassifier(min_samples_leaf=50, min_samples_split=50,\n",
       "                       n_estimators=200)</pre></div></div></div></div></div>"
      ],
      "text/plain": [
       "RandomForestClassifier(min_samples_leaf=50, min_samples_split=50,\n",
       "                       n_estimators=200)"
      ]
     },
     "execution_count": 1339,
     "metadata": {},
     "output_type": "execute_result"
    }
   ],
   "source": [
    "rf_classifier.fit(X_train,Y_train)"
   ]
  },
  {
   "cell_type": "code",
   "execution_count": 1340,
   "id": "7e53cc3f",
   "metadata": {},
   "outputs": [
    {
     "data": {
      "text/plain": [
       "array([1, 1, 1, 1, 1, 1, 1, 1, 1, 1, 1, 1, 1, 1, 1, 1, 1, 1, 1, 1, 1, 1,\n",
       "       1, 1, 1, 1, 1, 1, 1, 1, 1, 1, 1, 1, 1, 1, 1, 1, 1, 1, 1, 1, 1, 1,\n",
       "       1, 1, 1, 1, 1, 1, 1, 1, 1, 1, 1, 1, 1, 1, 1, 1, 1, 1, 1, 1, 1, 1,\n",
       "       1, 1, 1, 1, 1, 1, 1, 1, 1, 1, 1, 1, 1, 1, 1, 1, 1, 1, 1, 1, 1, 1,\n",
       "       1, 1, 1, 1, 1, 1, 1, 1, 1, 1, 1, 1, 1, 1, 1, 1, 1, 1, 1, 1, 1, 1,\n",
       "       1, 1, 1, 1, 1, 1, 1, 1, 1, 1], dtype=int64)"
      ]
     },
     "execution_count": 1340,
     "metadata": {},
     "output_type": "execute_result"
    }
   ],
   "source": [
    "random.predict(X_train)"
   ]
  },
  {
   "cell_type": "code",
   "execution_count": 1357,
   "id": "12e5d450",
   "metadata": {},
   "outputs": [
    {
     "name": "stdout",
     "output_type": "stream",
     "text": [
      "accuracy score on training:  0.3416666666666667\n"
     ]
    }
   ],
   "source": [
    "scorer=random.score(X_train,Y_train)\n",
    "print('accuracy score on training: ',scorer)"
   ]
  },
  {
   "cell_type": "code",
   "execution_count": 1342,
   "id": "4f2a7180",
   "metadata": {},
   "outputs": [
    {
     "data": {
      "text/plain": [
       "array([1, 1, 1, 1, 1, 1, 1, 1, 1, 1, 1, 1, 1, 1, 1, 1, 1, 1, 1, 1, 1, 1,\n",
       "       1, 1, 1, 1, 1, 1, 1, 1], dtype=int64)"
      ]
     },
     "execution_count": 1342,
     "metadata": {},
     "output_type": "execute_result"
    }
   ],
   "source": [
    "random.predict(X_test)"
   ]
  },
  {
   "cell_type": "code",
   "execution_count": 1358,
   "id": "fc288982",
   "metadata": {},
   "outputs": [
    {
     "name": "stdout",
     "output_type": "stream",
     "text": [
      "accuracy is:  0.3\n"
     ]
    }
   ],
   "source": [
    "score_testing=random.score(X_test,Y_test)\n",
    "print('accuracy is: ',score_testing)"
   ]
  },
  {
   "cell_type": "markdown",
   "id": "32131aae",
   "metadata": {},
   "source": [
    "**Observations**\n",
    "- We used random forest to find out the accuracy of the test and train data.\n",
    "- In train data we got the accuracy of 0.34\n",
    "- In test data we got the accuracy of 0.3\n",
    "- This algorithm does not have accuracy."
   ]
  },
  {
   "cell_type": "markdown",
   "id": "333e171e",
   "metadata": {},
   "source": [
    "## XGBOOST"
   ]
  },
  {
   "cell_type": "code",
   "execution_count": 1345,
   "id": "d45a4d14",
   "metadata": {},
   "outputs": [],
   "source": [
    "import xgboost as xgb\n",
    "from xgboost import XGBClassifier"
   ]
  },
  {
   "cell_type": "code",
   "execution_count": 1346,
   "id": "28f3cae5",
   "metadata": {},
   "outputs": [],
   "source": [
    "clf_xgb=XGBClassifier()"
   ]
  },
  {
   "cell_type": "code",
   "execution_count": 1348,
   "id": "6c44eb55",
   "metadata": {},
   "outputs": [
    {
     "data": {
      "text/html": [
       "<style>#sk-container-id-109 {color: black;background-color: white;}#sk-container-id-109 pre{padding: 0;}#sk-container-id-109 div.sk-toggleable {background-color: white;}#sk-container-id-109 label.sk-toggleable__label {cursor: pointer;display: block;width: 100%;margin-bottom: 0;padding: 0.3em;box-sizing: border-box;text-align: center;}#sk-container-id-109 label.sk-toggleable__label-arrow:before {content: \"▸\";float: left;margin-right: 0.25em;color: #696969;}#sk-container-id-109 label.sk-toggleable__label-arrow:hover:before {color: black;}#sk-container-id-109 div.sk-estimator:hover label.sk-toggleable__label-arrow:before {color: black;}#sk-container-id-109 div.sk-toggleable__content {max-height: 0;max-width: 0;overflow: hidden;text-align: left;background-color: #f0f8ff;}#sk-container-id-109 div.sk-toggleable__content pre {margin: 0.2em;color: black;border-radius: 0.25em;background-color: #f0f8ff;}#sk-container-id-109 input.sk-toggleable__control:checked~div.sk-toggleable__content {max-height: 200px;max-width: 100%;overflow: auto;}#sk-container-id-109 input.sk-toggleable__control:checked~label.sk-toggleable__label-arrow:before {content: \"▾\";}#sk-container-id-109 div.sk-estimator input.sk-toggleable__control:checked~label.sk-toggleable__label {background-color: #d4ebff;}#sk-container-id-109 div.sk-label input.sk-toggleable__control:checked~label.sk-toggleable__label {background-color: #d4ebff;}#sk-container-id-109 input.sk-hidden--visually {border: 0;clip: rect(1px 1px 1px 1px);clip: rect(1px, 1px, 1px, 1px);height: 1px;margin: -1px;overflow: hidden;padding: 0;position: absolute;width: 1px;}#sk-container-id-109 div.sk-estimator {font-family: monospace;background-color: #f0f8ff;border: 1px dotted black;border-radius: 0.25em;box-sizing: border-box;margin-bottom: 0.5em;}#sk-container-id-109 div.sk-estimator:hover {background-color: #d4ebff;}#sk-container-id-109 div.sk-parallel-item::after {content: \"\";width: 100%;border-bottom: 1px solid gray;flex-grow: 1;}#sk-container-id-109 div.sk-label:hover label.sk-toggleable__label {background-color: #d4ebff;}#sk-container-id-109 div.sk-serial::before {content: \"\";position: absolute;border-left: 1px solid gray;box-sizing: border-box;top: 0;bottom: 0;left: 50%;z-index: 0;}#sk-container-id-109 div.sk-serial {display: flex;flex-direction: column;align-items: center;background-color: white;padding-right: 0.2em;padding-left: 0.2em;position: relative;}#sk-container-id-109 div.sk-item {position: relative;z-index: 1;}#sk-container-id-109 div.sk-parallel {display: flex;align-items: stretch;justify-content: center;background-color: white;position: relative;}#sk-container-id-109 div.sk-item::before, #sk-container-id-109 div.sk-parallel-item::before {content: \"\";position: absolute;border-left: 1px solid gray;box-sizing: border-box;top: 0;bottom: 0;left: 50%;z-index: -1;}#sk-container-id-109 div.sk-parallel-item {display: flex;flex-direction: column;z-index: 1;position: relative;background-color: white;}#sk-container-id-109 div.sk-parallel-item:first-child::after {align-self: flex-end;width: 50%;}#sk-container-id-109 div.sk-parallel-item:last-child::after {align-self: flex-start;width: 50%;}#sk-container-id-109 div.sk-parallel-item:only-child::after {width: 0;}#sk-container-id-109 div.sk-dashed-wrapped {border: 1px dashed gray;margin: 0 0.4em 0.5em 0.4em;box-sizing: border-box;padding-bottom: 0.4em;background-color: white;}#sk-container-id-109 div.sk-label label {font-family: monospace;font-weight: bold;display: inline-block;line-height: 1.2em;}#sk-container-id-109 div.sk-label-container {text-align: center;}#sk-container-id-109 div.sk-container {/* jupyter's `normalize.less` sets `[hidden] { display: none; }` but bootstrap.min.css set `[hidden] { display: none !important; }` so we also need the `!important` here to be able to override the default hidden behavior on the sphinx rendered scikit-learn.org. See: https://github.com/scikit-learn/scikit-learn/issues/21755 */display: inline-block !important;position: relative;}#sk-container-id-109 div.sk-text-repr-fallback {display: none;}</style><div id=\"sk-container-id-109\" class=\"sk-top-container\"><div class=\"sk-text-repr-fallback\"><pre>XGBClassifier(base_score=None, booster=None, callbacks=None,\n",
       "              colsample_bylevel=None, colsample_bynode=None,\n",
       "              colsample_bytree=None, early_stopping_rounds=None,\n",
       "              enable_categorical=False, eval_metric=None, feature_types=None,\n",
       "              gamma=None, gpu_id=None, grow_policy=None, importance_type=None,\n",
       "              interaction_constraints=None, learning_rate=None, max_bin=None,\n",
       "              max_cat_threshold=None, max_cat_to_onehot=None,\n",
       "              max_delta_step=None, max_depth=None, max_leaves=None,\n",
       "              min_child_weight=None, missing=nan, monotone_constraints=None,\n",
       "              n_estimators=100, n_jobs=None, num_parallel_tree=None,\n",
       "              objective=&#x27;multi:softprob&#x27;, predictor=None, ...)</pre><b>In a Jupyter environment, please rerun this cell to show the HTML representation or trust the notebook. <br />On GitHub, the HTML representation is unable to render, please try loading this page with nbviewer.org.</b></div><div class=\"sk-container\" hidden><div class=\"sk-item\"><div class=\"sk-estimator sk-toggleable\"><input class=\"sk-toggleable__control sk-hidden--visually\" id=\"sk-estimator-id-109\" type=\"checkbox\" checked><label for=\"sk-estimator-id-109\" class=\"sk-toggleable__label sk-toggleable__label-arrow\">XGBClassifier</label><div class=\"sk-toggleable__content\"><pre>XGBClassifier(base_score=None, booster=None, callbacks=None,\n",
       "              colsample_bylevel=None, colsample_bynode=None,\n",
       "              colsample_bytree=None, early_stopping_rounds=None,\n",
       "              enable_categorical=False, eval_metric=None, feature_types=None,\n",
       "              gamma=None, gpu_id=None, grow_policy=None, importance_type=None,\n",
       "              interaction_constraints=None, learning_rate=None, max_bin=None,\n",
       "              max_cat_threshold=None, max_cat_to_onehot=None,\n",
       "              max_delta_step=None, max_depth=None, max_leaves=None,\n",
       "              min_child_weight=None, missing=nan, monotone_constraints=None,\n",
       "              n_estimators=100, n_jobs=None, num_parallel_tree=None,\n",
       "              objective=&#x27;multi:softprob&#x27;, predictor=None, ...)</pre></div></div></div></div></div>"
      ],
      "text/plain": [
       "XGBClassifier(base_score=None, booster=None, callbacks=None,\n",
       "              colsample_bylevel=None, colsample_bynode=None,\n",
       "              colsample_bytree=None, early_stopping_rounds=None,\n",
       "              enable_categorical=False, eval_metric=None, feature_types=None,\n",
       "              gamma=None, gpu_id=None, grow_policy=None, importance_type=None,\n",
       "              interaction_constraints=None, learning_rate=None, max_bin=None,\n",
       "              max_cat_threshold=None, max_cat_to_onehot=None,\n",
       "              max_delta_step=None, max_depth=None, max_leaves=None,\n",
       "              min_child_weight=None, missing=nan, monotone_constraints=None,\n",
       "              n_estimators=100, n_jobs=None, num_parallel_tree=None,\n",
       "              objective='multi:softprob', predictor=None, ...)"
      ]
     },
     "execution_count": 1348,
     "metadata": {},
     "output_type": "execute_result"
    }
   ],
   "source": [
    "clf_xgb.fit(X_train,Y_train)"
   ]
  },
  {
   "cell_type": "code",
   "execution_count": 1361,
   "id": "c30b479c",
   "metadata": {},
   "outputs": [
    {
     "data": {
      "text/plain": [
       "array([2, 2, 1, 2, 2, 0, 1, 2, 0, 1, 0, 2, 2, 1, 0, 2, 2, 2, 0, 0, 0, 1,\n",
       "       1, 2, 1, 2, 1, 2, 0, 2, 2, 2, 1, 0, 2, 1, 0, 2, 1, 1, 0, 0, 2, 1,\n",
       "       2, 0, 1, 0, 0, 2, 2, 2, 1, 0, 2, 0, 0, 2, 0, 0, 2, 2, 2, 1, 2, 1,\n",
       "       2, 2, 1, 0, 0, 0, 1, 2, 1, 0, 2, 1, 0, 2, 2, 1, 2, 2, 0, 2, 1, 1,\n",
       "       0, 0, 0, 2, 0, 0, 2, 1, 0, 2, 2, 2, 1, 1, 1, 1, 1, 2, 1, 1, 0, 0,\n",
       "       1, 2, 0, 2, 1, 2, 1, 1, 1, 2], dtype=int64)"
      ]
     },
     "execution_count": 1361,
     "metadata": {},
     "output_type": "execute_result"
    }
   ],
   "source": [
    "clf_xgb.predict(X_train)"
   ]
  },
  {
   "cell_type": "code",
   "execution_count": 1362,
   "id": "2537da53",
   "metadata": {},
   "outputs": [
    {
     "name": "stdout",
     "output_type": "stream",
     "text": [
      "accuracy is:  0.9583333333333334\n"
     ]
    }
   ],
   "source": [
    "training=clf_xgb.score(X_train,Y_train)\n",
    "print('accuracy is: ',training)"
   ]
  },
  {
   "cell_type": "code",
   "execution_count": 1363,
   "id": "44f1468e",
   "metadata": {},
   "outputs": [
    {
     "data": {
      "text/plain": [
       "array([2, 0, 0, 2, 0, 0, 1, 0, 1, 0, 2, 0, 1, 2, 1, 0, 0, 1, 0, 1, 1, 2,\n",
       "       0, 1, 2, 2, 1, 2, 2, 0], dtype=int64)"
      ]
     },
     "execution_count": 1363,
     "metadata": {},
     "output_type": "execute_result"
    }
   ],
   "source": [
    "clf_xgb.predict(X_test)"
   ]
  },
  {
   "cell_type": "code",
   "execution_count": 1364,
   "id": "4af77f4b",
   "metadata": {},
   "outputs": [
    {
     "name": "stdout",
     "output_type": "stream",
     "text": [
      "accuracy is:  0.7\n"
     ]
    }
   ],
   "source": [
    "testing=clf_xgb.score(X_test,Y_test)\n",
    "print('accuracy is: ',testing)"
   ]
  },
  {
   "cell_type": "markdown",
   "id": "eb2e0347",
   "metadata": {},
   "source": [
    "**Observations**\n",
    "- We used XGBoost to find out the accuracy of the test and train data.\n",
    "- In train data we got the accuracy of 0.95\n",
    "- In test data we got the accuracy of 0.7\n",
    "- This is the best algorithm to finout the accuracy."
   ]
  },
  {
   "cell_type": "markdown",
   "id": "d7a462be",
   "metadata": {},
   "source": [
    "# Conclusion"
   ]
  },
  {
   "cell_type": "markdown",
   "id": "c505c8ea",
   "metadata": {},
   "source": [
    "- Performed modelling using various algorithms and also evaluated metrics such as training score and testing score.\n",
    "- So after performing through various algorithm we came to know that XGBoost is best with training score = 0.95 and testing score = 0.7.\n",
    "- We started our project by importing necessary models,loaded the dataset successfully and get the information of the data.\n",
    "- We performed data exploration on all necessary data to check which is supported and which is not supported.\n",
    "\n"
   ]
  },
  {
   "cell_type": "markdown",
   "id": "763c9ee5",
   "metadata": {},
   "source": [
    "# Model Selection"
   ]
  },
  {
   "cell_type": "markdown",
   "id": "0ca53fda",
   "metadata": {},
   "source": [
    "- According to Model evalution dataframe matrics dataframe, the test score .\n",
    "- And we also selected Decision tree algorithm,Kneighbour classification,Random forest\n",
    "- As we can see in this accuracy the best result got in XGBoost algorithm."
   ]
  },
  {
   "cell_type": "markdown",
   "id": "d3e48c2b",
   "metadata": {},
   "source": [
    "# Challenges Faced "
   ]
  },
  {
   "cell_type": "markdown",
   "id": "de57d1e1",
   "metadata": {},
   "source": [
    "- Faced some challenges in getting the resources and handkling mismatch values.\n",
    "- We felt little challenging when we start working on different algorithms and also choosing quite number of algorithms to work upon.\n",
    "- Deciding about the best model of prediction.\n"
   ]
  },
  {
   "cell_type": "code",
   "execution_count": null,
   "id": "dde4c339",
   "metadata": {},
   "outputs": [],
   "source": []
  }
 ],
 "metadata": {
  "kernelspec": {
   "display_name": "Python 3 (ipykernel)",
   "language": "python",
   "name": "python3"
  },
  "language_info": {
   "codemirror_mode": {
    "name": "ipython",
    "version": 3
   },
   "file_extension": ".py",
   "mimetype": "text/x-python",
   "name": "python",
   "nbconvert_exporter": "python",
   "pygments_lexer": "ipython3",
   "version": "3.10.9"
  }
 },
 "nbformat": 4,
 "nbformat_minor": 5
}
